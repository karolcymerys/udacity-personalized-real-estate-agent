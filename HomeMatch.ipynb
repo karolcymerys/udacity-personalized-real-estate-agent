{
 "cells": [
  {
   "cell_type": "markdown",
   "id": "a108af04",
   "metadata": {},
   "source": [
    "## Generating Real Estate Listings with an LLM"
   ]
  },
  {
   "cell_type": "code",
   "execution_count": 1,
   "id": "c98a1ec1",
   "metadata": {},
   "outputs": [],
   "source": [
    "OPENAI_API_KEY = ''"
   ]
  },
  {
   "cell_type": "code",
   "execution_count": 2,
   "id": "6554fd4c",
   "metadata": {},
   "outputs": [],
   "source": [
    "from langchain.chat_models import ChatOpenAI\n",
    "from langchain.prompts import PromptTemplate"
   ]
  },
  {
   "cell_type": "markdown",
   "id": "5b893bf3-42c9-4f7d-89d9-62d5ea4c73d6",
   "metadata": {},
   "source": [
    "### Generating Real Estate Listings with an LLM"
   ]
  },
  {
   "cell_type": "code",
   "execution_count": 8,
   "id": "775e03e7",
   "metadata": {},
   "outputs": [],
   "source": [
    "llm = ChatOpenAI(\n",
    "    openai_api_key=OPENAI_API_KEY, \n",
    "    model='gpt-4-turbo-preview', \n",
    "    temperature=0.5,\n",
    "    max_tokens=2500)\n",
    "\n",
    "prompt = '''\n",
    "Generate 25 diverse and realistic real estate listings in the United States.\n",
    "Generated listings should be catchy and descriptive, so they encourage reviewers to buy such property.\n",
    "Also they should contain facts, such as:\n",
    "- price\n",
    "- location\n",
    "- available surface\n",
    "- number of bedrooms and bathrooms\n",
    "- property type\n",
    "- amenities\n",
    "- description of the neighborhood.\n",
    "\n",
    "Separate listings by '---'.     \n",
    "'''\n"
   ]
  },
  {
   "cell_type": "code",
   "execution_count": 9,
   "id": "0e7dd63e",
   "metadata": {},
   "outputs": [],
   "source": [
    "result = llm.invoke(prompt)"
   ]
  },
  {
   "cell_type": "code",
   "execution_count": 10,
   "id": "d0075fa9",
   "metadata": {},
   "outputs": [
    {
     "name": "stdout",
     "output_type": "stream",
     "text": [
      "1. **Charming Suburban Retreat** - $350,000 - Located in the heart of Plano, Texas, this 2,000 sq. ft. single-family home boasts 4 bedrooms and 2.5 bathrooms. Enjoy a modern kitchen, spacious backyard, and a cozy fireplace. Plano offers top-rated schools, lush parks, and a family-friendly atmosphere. \n",
      "\n",
      "---\n",
      "\n",
      "2. **Modern Downtown Loft** - $475,000 - Experience urban living in this sleek loft in Seattle, Washington. With 1,100 sq. ft., 2 bedrooms, and 2 bathrooms, this property features floor-to-ceiling windows, a chef's kitchen, and communal rooftop. Steps away from vibrant nightlife, shopping, and dining.\n",
      "\n",
      "---\n",
      "\n",
      "3. **Historic Charleston Single** - $650,000 - Own a piece of history in Charleston, South Carolina. This 2,500 sq. ft. home offers 3 bedrooms, 3 bathrooms, original hardwood floors, and a private garden. Located in a picturesque neighborhood, walking distance to the city's best restaurants and parks.\n",
      "\n",
      "---\n",
      "\n",
      "4. **Beachfront Oasis** - $1.2M - Wake up to ocean views in this stunning property in Malibu, California. Spanning 3,000 sq. ft., it features 4 bedrooms, 4 bathrooms, an open-concept living area, and direct beach access. Ideal for those seeking a tranquil lifestyle by the sea.\n",
      "\n",
      "---\n",
      "\n",
      "5. **Luxury Manhattan Penthouse** - $4.5M - Located in the heart of New York City, this 2,500 sq. ft. penthouse boasts 3 bedrooms, 3.5 bathrooms, gourmet kitchen, and a private terrace offering breathtaking city views. Full-service building with gym, pool, and 24-hour concierge.\n",
      "\n",
      "---\n",
      "\n",
      "6. **Cozy Mountain Cabin** - $275,000 - Nestled in the Rockies of Colorado, this 1,500 sq. ft. cabin features 3 bedrooms, 2 bathrooms, a stone fireplace, and a wraparound deck. Perfect for outdoor enthusiasts, with easy access to skiing, hiking, and fishing.\n",
      "\n",
      "---\n",
      "\n",
      "7. **Spacious Family Home** - $425,000 - Located in a desirable neighborhood in Orlando, Florida, this 2,800 sq. ft. home offers 5 bedrooms, 3 bathrooms, a large kitchen, and a swimming pool. Near top-rated schools and theme parks, making it an ideal family home.\n",
      "\n",
      "---\n",
      "\n",
      "8. **Quaint Cottage** - $300,000 - Discover this charming 1,200 sq. ft. cottage in Asheville, North Carolina, with 2 bedrooms, 2 bathrooms, a cozy fireplace, and a beautiful garden. Situated in a peaceful community with easy access to downtown and the Blue Ridge Parkway.\n",
      "\n",
      "---\n",
      "\n",
      "9. **Sleek City Condo** - $550,000 - In the heart of Chicago, Illinois, this 1,800 sq. ft. condo features 3 bedrooms, 2 bathrooms, modern finishes, and floor-to-ceiling windows with stunning city views. Building amenities include a fitness center and rooftop deck.\n",
      "\n",
      "---\n",
      "\n",
      "10. **Elegant Estate** - $2.9M - Located in Greenwich, Connecticut, this luxurious 5,000 sq. ft. estate offers 6 bedrooms, 5.5 bathrooms, a gourmet kitchen, home theater, and a heated pool. Set on 2 acres of beautifully landscaped grounds in a prestigious neighborhood.\n",
      "\n",
      "---\n",
      "\n",
      "11. **Rustic Ranch** - $750,000 - Enjoy country living in Bozeman, Montana, with this 3,500 sq. ft. ranch home featuring 4 bedrooms, 3 bathrooms, a large barn, and over 20 acres of land. Perfect for horse lovers and outdoor enthusiasts.\n",
      "\n",
      "---\n",
      "\n",
      "12. **Contemporary Townhouse** - $625,000 - Situated in a vibrant community in Atlanta, Georgia, this 2,200 sq. ft. townhouse features 3 bedrooms, 3.5 bathrooms, a modern kitchen, and a rooftop terrace. Walking distance to shops, restaurants, and parks.\n",
      "\n",
      "---\n",
      "\n",
      "13. **Waterfront Villa** - $1.8M - Experience luxury in this Naples, Florida, villa with 4,000 sq. ft., 5 bedrooms, 5 bathrooms, a private dock, and pool. Enjoy breathtaking sunset views over the water, in a community with exclusive amenities.\n",
      "\n",
      "---\n",
      "\n",
      "14. **Classic New England Home** - $550,000 - Located in Portland, Maine, this 2,400 sq. ft. home offers 4 bedrooms, 3 bathrooms, a traditional fireplace, and a large backyard. Enjoy the charm of a historic neighborhood with modern conveniences nearby.\n",
      "\n",
      "---\n",
      "\n",
      "15. **Desert Modern Home** - $890,000 - In Scottsdale, Arizona, this 3,200 sq. ft. home features 4 bedrooms, 3.5 bathrooms, an open floor plan, pool, and stunning desert landscape views. Perfect for those seeking a modern lifestyle in a serene setting.\n",
      "\n",
      "---\n",
      "\n",
      "16. **Boutique Condo** - $410,000 - Discover urban living in this boutique condo in Denver, Colorado, with 1,000 sq. ft., 2 bedrooms, 2 bathrooms, contemporary design, and a private balcony. Located in a lively neighborhood with easy access to dining and entertainment.\n",
      "\n",
      "---\n",
      "\n",
      "17. **Southern Plantation** - $3.2M - Own a piece of Southern charm in Savannah, Georgia. This historic 6,000 sq. ft. plantation offers 5 bedrooms, 6 bathrooms, sprawling gardens, and a guest cottage. Perfect for luxurious living or a bed and breakfast venture.\n",
      "\n",
      "---\n",
      "\n",
      "18. **Lakeside Retreat** - $975,000 - Located on the shores of Lake Tahoe, California, this 2,800 sq. ft. retreat offers 4 bedrooms, 3 bathrooms, a private dock, and panoramic lake views. Ideal for year-round outdoor activities and relaxation.\n",
      "\n",
      "---\n",
      "\n",
      "19. **Urban Oasis** - $635,000 - In the bustling city of Austin, Texas, this 2,100 sq. ft. home features 3 bedrooms, 2.5 bathrooms, a modern kitchen, and a private backyard oasis with a pool. Located in a lively neighborhood with a strong community vibe.\n",
      "\n",
      "---\n",
      "\n",
      "20. **Golf Course Estate** - $1.3M - Situated on a premier golf course in Palm Springs, California, this 4,500 sq. ft. estate offers 5 bedrooms, 4.5 bathrooms, a chef's kitchen, and a pool. Enjoy resort-style living with stunning views and amenities.\n",
      "\n",
      "---\n",
      "\n",
      "21. **Victorian Beauty** - $485,000 - In the heart of San Francisco, California, this 2,200 sq. ft. Victorian home offers 4 bedrooms, 3 bathrooms, original architectural details, and a modern kitchen. Located in a vibrant neighborhood with easy access to parks and dining.\n",
      "\n",
      "---\n",
      "\n",
      "22. **Alaskan Wilderness Home** - $320,000 - Experience the ultimate in seclusion with this 1,800 sq. ft. home in Fairbanks, Alaska, featuring 3 bedrooms, 2 bathrooms, a wood stove, and vast wilderness at your doorstep. Ideal for nature lovers and adventure seekers.\n",
      "\n",
      "---\n",
      "\n",
      "23. **Tropical Paradise** - $850,000 - Live in paradise in this Key West, Florida, home with 2,500 sq. ft., 4 bedrooms, 3 bathrooms, a saltwater pool, and lush landscaping. Walking distance to beaches and the vibrant Duval Street.\n",
      "\n",
      "---\n",
      "\n",
      "24. **Mid-Century Modern Gem** - $720,000 - Located in Palm Beach, Florida, this 2,600 sq. ft. home features 4 bedrooms, 3 bathrooms, an open floor plan, and a pool. Enjoy the timeless design with contemporary updates in a sought-after neighborhood.\n",
      "\n",
      "---\n",
      "\n",
      "25. **Hilltop Haven** - $1.1M - Perched atop a hill in Boulder, Colorado, this 3,600 sq. ft. home offers breathtaking mountain views, 5 bedrooms, 4 bathrooms, a gourmet kitchen, and multiple outdoor living spaces. Surrounded by nature, yet close to city amenities.\n"
     ]
    }
   ],
   "source": [
    "print(result.content)"
   ]
  },
  {
   "cell_type": "code",
   "execution_count": 11,
   "id": "e985e9a6",
   "metadata": {},
   "outputs": [],
   "source": [
    "with open('listings.txt', 'w') as listings_file:\n",
    "    listings_file.write(result.content)"
   ]
  },
  {
   "cell_type": "markdown",
   "id": "cfa9d48b",
   "metadata": {},
   "source": [
    "## Semantic Search"
   ]
  },
  {
   "cell_type": "code",
   "execution_count": 12,
   "id": "5a207d03",
   "metadata": {},
   "outputs": [],
   "source": [
    "from langchain.embeddings.openai import OpenAIEmbeddings\n",
    "from langchain.document_loaders import TextLoader\n",
    "from langchain.text_splitter import CharacterTextSplitter\n",
    "from langchain.vectorstores import Chroma"
   ]
  },
  {
   "cell_type": "markdown",
   "id": "b17d809f-bd53-47e0-93d4-89f9365a11e5",
   "metadata": {},
   "source": [
    "### Creating a Vector Database and Storing Listings"
   ]
  },
  {
   "cell_type": "code",
   "execution_count": 13,
   "id": "99d3e8a0",
   "metadata": {},
   "outputs": [],
   "source": [
    "loader = TextLoader(\"./listings.txt\")\n",
    "files = loader.load()"
   ]
  },
  {
   "cell_type": "code",
   "execution_count": 15,
   "id": "7d7976a3",
   "metadata": {},
   "outputs": [
    {
     "data": {
      "text/plain": [
       "25"
      ]
     },
     "execution_count": 15,
     "metadata": {},
     "output_type": "execute_result"
    }
   ],
   "source": [
    "text_splitter = CharacterTextSplitter(separator='\\n---\\n', chunk_size=400, chunk_overlap=0)\n",
    "docs = text_splitter.split_documents(files)\n",
    "len(docs)"
   ]
  },
  {
   "cell_type": "code",
   "execution_count": 16,
   "id": "c29d4626",
   "metadata": {},
   "outputs": [
    {
     "name": "stderr",
     "output_type": "stream",
     "text": [
      "/home/kcymerys/Tools/python-envs/ai/lib/python3.9/site-packages/langchain_core/_api/deprecation.py:117: LangChainDeprecationWarning: The class `langchain_community.embeddings.openai.OpenAIEmbeddings` was deprecated in langchain-community 0.1.0 and will be removed in 0.2.0. An updated version of the class exists in the langchain-openai package and should be used instead. To use it run `pip install -U langchain-openai` and import as `from langchain_openai import OpenAIEmbeddings`.\n",
      "  warn_deprecated(\n"
     ]
    }
   ],
   "source": [
    "embedding_model = OpenAIEmbeddings(openai_api_key=OPENAI_API_KEY, model=\"text-embedding-3-large\")\n",
    "db = Chroma.from_documents(docs, embedding_model, persist_directory='./chroma_db')"
   ]
  },
  {
   "cell_type": "markdown",
   "id": "5443cbb5-eee0-4fe4-8cd4-264118e9d373",
   "metadata": {},
   "source": [
    "### Semantic Search of Listings Based on Buyer Preferences"
   ]
  },
  {
   "cell_type": "code",
   "execution_count": 17,
   "id": "93094ad8",
   "metadata": {},
   "outputs": [
    {
     "name": "stdout",
     "output_type": "stream",
     "text": [
      "10. **Elegant Estate** - $2.9M - Located in Greenwich, Connecticut, this luxurious 5,000 sq. ft. estate offers 6 bedrooms, 5.5 bathrooms, a gourmet kitchen, home theater, and a heated pool. Set on 2 acres of beautifully landscaped grounds in a prestigious neighborhood.\n",
      "20. **Golf Course Estate** - $1.3M - Situated on a premier golf course in Palm Springs, California, this 4,500 sq. ft. estate offers 5 bedrooms, 4.5 bathrooms, a chef's kitchen, and a pool. Enjoy resort-style living with stunning views and amenities.\n",
      "7. **Spacious Family Home** - $425,000 - Located in a desirable neighborhood in Orlando, Florida, this 2,800 sq. ft. home offers 5 bedrooms, 3 bathrooms, a large kitchen, and a swimming pool. Near top-rated schools and theme parks, making it an ideal family home.\n",
      "11. **Rustic Ranch** - $750,000 - Enjoy country living in Bozeman, Montana, with this 3,500 sq. ft. ranch home featuring 4 bedrooms, 3 bathrooms, a large barn, and over 20 acres of land. Perfect for horse lovers and outdoor enthusiasts.\n"
     ]
    }
   ],
   "source": [
    "# Test\n",
    "query = '''\n",
    "I would like to live in one of state in the middle of US and I can spend up to $1.5 Million. \n",
    "I want to have an estate in gated community with a lot of amenities for children (e.g. school, playground).\n",
    "Beside of that house should have at least 4 bedrooms, spacious kitchen and garden.\n",
    "'''\n",
    "docs = db.similarity_search(query)\n",
    "\n",
    "for doc in docs:\n",
    "    print(doc.page_content)"
   ]
  },
  {
   "cell_type": "markdown",
   "id": "5eda7430-1c23-4b6d-a148-f1c58626b8d7",
   "metadata": {},
   "source": [
    "## Augmented Response Generation"
   ]
  },
  {
   "cell_type": "markdown",
   "id": "3f32e228-2383-4eb2-b9b7-c7c0d8dd1d93",
   "metadata": {},
   "source": [
    "### Logic for Searching and Augmenting Listing Descriptions"
   ]
  },
  {
   "cell_type": "code",
   "execution_count": 18,
   "id": "186d270a-046c-4534-af65-925bc099a98e",
   "metadata": {},
   "outputs": [],
   "source": [
    "from langchain.chat_models import ChatOpenAI\n",
    "from langchain.prompts import PromptTemplate\n",
    "from langchain.chains import ConversationChain\n",
    "from langchain.memory import ConversationBufferMemory"
   ]
  },
  {
   "cell_type": "code",
   "execution_count": 29,
   "id": "e00e22d4-4ccc-4096-996b-6f98362ce511",
   "metadata": {},
   "outputs": [],
   "source": [
    "llm = ChatOpenAI(\n",
    "    openai_api_key=OPENAI_API_KEY, \n",
    "    model='gpt-4-turbo-preview', \n",
    "    temperature=0,\n",
    "    max_tokens=256)\n",
    "\n",
    "chat_memory = ConversationBufferMemory(ai_prefix=\"AI Assistant\")"
   ]
  },
  {
   "cell_type": "code",
   "execution_count": 30,
   "id": "b8d6dbe8-cf08-48f7-a24d-c51d287e4e99",
   "metadata": {},
   "outputs": [],
   "source": [
    "template = \"\"\"\n",
    "You're AI asistant and your task is to gather all details from customer who is interested in buying new estate. \n",
    "\n",
    "At the begining, shortly describe what is purpose of this conversation.\n",
    "\n",
    "You should gather answers for following questions:\n",
    "\n",
    "- What are your preferences regarding style and architecture?\n",
    "- What is your preferred location?\n",
    "- Do you have any requirements regarding neighborhood?\n",
    "- How big should your house be?\n",
    "- Do you have any requirements regarding home furnishings?\n",
    "- Do you expect to have some amenities?\n",
    "- What is your budget?\n",
    "\n",
    "Don't answer for question you are asking.\n",
    "\n",
    "Be kind and don't be pushy when customer doesn't want to answer for some question, simply skip them. \n",
    "\n",
    "Ask one only question at once.\n",
    "\n",
    "Once you gathered all details, thank for all replies, summarize all relevant facts that would help to recommend the best offer and put '<END-OF-CONVERSATION>'\n",
    "\n",
    "\n",
    "Current conversation:\n",
    "{history}\n",
    "Human: {input}\n",
    "AI assistant\n",
    "\"\"\"\n",
    "\n",
    "prompt = PromptTemplate(input_variables=[\"history\", \"input\"], template=template)\n",
    "conversation = ConversationChain(\n",
    "    prompt=prompt,\n",
    "    llm=llm,\n",
    "    verbose=False,\n",
    "    memory=chat_memory\n",
    ")\n",
    "\n"
   ]
  },
  {
   "cell_type": "code",
   "execution_count": 31,
   "id": "2e07822a-8e27-4520-aeda-3fc280a348b2",
   "metadata": {},
   "outputs": [
    {
     "name": "stdout",
     "output_type": "stream",
     "text": [
      "Hello! I'm here to assist you in finding your perfect new estate. The purpose of this conversation is to gather all the necessary details about your preferences and requirements for your new home. This will help us recommend the best options tailored to your needs. Let's get started!\n",
      "\n",
      "What are your preferences regarding style and architecture?\n"
     ]
    },
    {
     "name": "stdin",
     "output_type": "stream",
     "text": [
      "Customer: I love modern and classic style\n"
     ]
    },
    {
     "name": "stdout",
     "output_type": "stream",
     "text": [
      "That's a great combination! Modern and classic styles can complement each other beautifully. What is your preferred location?\n"
     ]
    },
    {
     "name": "stdin",
     "output_type": "stream",
     "text": [
      "Customer: I'd love to live at East Coast of the uS\n"
     ]
    },
    {
     "name": "stdout",
     "output_type": "stream",
     "text": [
      "The East Coast of the US has some beautiful locations. Do you have any requirements regarding the neighborhood?\n"
     ]
    },
    {
     "name": "stdin",
     "output_type": "stream",
     "text": [
      "Customer: I should be gated community with a lot of options to spend my free time\n"
     ]
    },
    {
     "name": "stdout",
     "output_type": "stream",
     "text": [
      "A gated community with plenty of leisure options sounds wonderful. How big should your house be?\n"
     ]
    },
    {
     "name": "stdin",
     "output_type": "stream",
     "text": [
      "Customer: It should have at least 4 bedrooms, 2 bathrooms and big kitchen\n"
     ]
    },
    {
     "name": "stdout",
     "output_type": "stream",
     "text": [
      "That sounds like a spacious and comfortable home. Do you have any requirements regarding home furnishings?\n",
      "\n"
     ]
    },
    {
     "name": "stdin",
     "output_type": "stream",
     "text": [
      "Customer: It should be fully furnished.\n"
     ]
    },
    {
     "name": "stdout",
     "output_type": "stream",
     "text": [
      "Fully furnished is a great choice for convenience. Do you expect to have some amenities?\n",
      "\n"
     ]
    },
    {
     "name": "stdin",
     "output_type": "stream",
     "text": [
      "Customer: I have family so neighborhood should family-friendly\n"
     ]
    },
    {
     "name": "stdout",
     "output_type": "stream",
     "text": [
      "I understand, a family-friendly neighborhood is important. What amenities are you looking for in your new home?\n"
     ]
    },
    {
     "name": "stdin",
     "output_type": "stream",
     "text": [
      "Customer: I don't want to answer for this question\n"
     ]
    },
    {
     "name": "stdout",
     "output_type": "stream",
     "text": [
      "That's perfectly fine! We can move on. What is your budget for the new estate?\n"
     ]
    },
    {
     "name": "stdin",
     "output_type": "stream",
     "text": [
      "Customer: Up to $1.5M\n"
     ]
    },
    {
     "name": "stdout",
     "output_type": "stream",
     "text": [
      "Thank you for sharing all these details with me. To summarize, you're looking for a home that blends modern and classic styles, located on the East Coast of the US, within a gated community that offers plenty of leisure options. The house should have at least 4 bedrooms, 2 bathrooms, and a big kitchen, and it needs to be fully furnished. It's also important for the neighborhood to be family-friendly. Your budget for this new estate is up to $1.5M.\n",
      "\n",
      "With all this information, I'll be able to recommend the best options that meet your needs and preferences. Thank you again for your time and for providing all the necessary details. \n"
     ]
    }
   ],
   "source": [
    "current_input = 'Hello there'\n",
    "\n",
    "end_seq = '<END-OF-CONVERSATION>'\n",
    "\n",
    "while True:\n",
    "    response = conversation.predict(input=current_input)\n",
    "    print(response.replace(end_seq, ''))\n",
    "    if end_seq in response:\n",
    "        break\n",
    "    current_input = input('Customer:')"
   ]
  },
  {
   "cell_type": "code",
   "execution_count": 35,
   "id": "b3a029fb-3582-40f9-8917-116db57a92a5",
   "metadata": {},
   "outputs": [
    {
     "data": {
      "text/plain": [
       "\"Thank you for sharing all these details with me. To summarize, you're looking for a home that blends modern and classic styles, located on the East Coast of the US, within a gated community that offers plenty of leisure options. The house should have at least 4 bedrooms, 2 bathrooms, and a big kitchen, and it needs to be fully furnished. It's also important for the neighborhood to be family-friendly. Your budget for this new estate is up to $1.5M.\\n\\nWith all this information, I'll be able to recommend the best options that meet your needs and preferences. Thank you again for your time and for providing all the necessary details. \""
      ]
     },
     "execution_count": 35,
     "metadata": {},
     "output_type": "execute_result"
    }
   ],
   "source": [
    "search_query = chat_memory.chat_memory.messages[-1].content.replace(end_seq, '')\n",
    "search_query"
   ]
  },
  {
   "cell_type": "code",
   "execution_count": 36,
   "id": "588c14ff-44bd-4153-b80c-a6223c09711d",
   "metadata": {},
   "outputs": [],
   "source": [
    "embedding_model = OpenAIEmbeddings(openai_api_key=OPENAI_API_KEY, model=\"text-embedding-3-large\")\n",
    "\n",
    "db = Chroma(embedding_function=embedding_model, persist_directory='./chroma_db')"
   ]
  },
  {
   "cell_type": "code",
   "execution_count": 37,
   "id": "f50c68c3-4470-4b72-9cd6-846a973c5ee6",
   "metadata": {},
   "outputs": [
    {
     "data": {
      "text/plain": [
       "[Document(page_content='10. **Elegant Estate** - $2.9M - Located in Greenwich, Connecticut, this luxurious 5,000 sq. ft. estate offers 6 bedrooms, 5.5 bathrooms, a gourmet kitchen, home theater, and a heated pool. Set on 2 acres of beautifully landscaped grounds in a prestigious neighborhood.', metadata={'source': './listings.txt'}),\n",
       " Document(page_content='14. **Classic New England Home** - $550,000 - Located in Portland, Maine, this 2,400 sq. ft. home offers 4 bedrooms, 3 bathrooms, a traditional fireplace, and a large backyard. Enjoy the charm of a historic neighborhood with modern conveniences nearby.', metadata={'source': './listings.txt'}),\n",
       " Document(page_content='7. **Spacious Family Home** - $425,000 - Located in a desirable neighborhood in Orlando, Florida, this 2,800 sq. ft. home offers 5 bedrooms, 3 bathrooms, a large kitchen, and a swimming pool. Near top-rated schools and theme parks, making it an ideal family home.', metadata={'source': './listings.txt'}),\n",
       " Document(page_content=\"20. **Golf Course Estate** - $1.3M - Situated on a premier golf course in Palm Springs, California, this 4,500 sq. ft. estate offers 5 bedrooms, 4.5 bathrooms, a chef's kitchen, and a pool. Enjoy resort-style living with stunning views and amenities.\", metadata={'source': './listings.txt'})]"
      ]
     },
     "execution_count": 37,
     "metadata": {},
     "output_type": "execute_result"
    }
   ],
   "source": [
    "recomended_offers = db.similarity_search(search_query)\n",
    "recomended_offers"
   ]
  },
  {
   "cell_type": "markdown",
   "id": "290e86d0-0298-4c0b-a443-4289814fdfe4",
   "metadata": {},
   "source": [
    "### Use of LLM for Generating Personalized Descriptions"
   ]
  },
  {
   "cell_type": "code",
   "execution_count": 46,
   "id": "6d5d9105-2a41-4705-9c7c-692be0226370",
   "metadata": {},
   "outputs": [],
   "source": [
    "llm = ChatOpenAI(\n",
    "    openai_api_key=OPENAI_API_KEY, \n",
    "    model='gpt-4-turbo-preview', \n",
    "    temperature=0.75,\n",
    "    max_tokens=2000)\n",
    "\n",
    "prompt_template = PromptTemplate.from_template('''\n",
    "You're and AI assistant. Your task is to select the best matching selling offer of real estate to customer needs.\n",
    "\n",
    "Offers:\n",
    "{offers}\n",
    "\n",
    "Customer needs:\n",
    "{customer_needs}\n",
    "\n",
    "Prepare description that will encourage customer to buy selected state. Your description should emphasize customer needs\n",
    "\n",
    "''')\n"
   ]
  },
  {
   "cell_type": "code",
   "execution_count": 47,
   "id": "6cab15be-3b60-4e27-a56a-199f93792c58",
   "metadata": {},
   "outputs": [],
   "source": [
    "prompt = prompt_template.format(offers='\\n---\\n'.join([offer.page_content for offer in recomended_offers]), customer_needs=search_query)\n",
    "response = llm.invoke(prompt)"
   ]
  },
  {
   "cell_type": "code",
   "execution_count": 48,
   "id": "7b0a01d2-b7f3-4acd-8882-3f48e1f19e05",
   "metadata": {},
   "outputs": [
    {
     "name": "stdout",
     "output_type": "stream",
     "text": [
      "**Classic New England Home** - $550,000 - Located in the heart of Portland, Maine, this exquisite property perfectly marries the classic charm of New England architecture with the modern conveniences you desire. Priced well within your budget at $550,000, this home offers an exceptional value and an opportunity to invest in additional customizations, making it truly your own.\n",
      "\n",
      "This 2,400 sq. ft. home, nestled in a historic yet family-friendly neighborhood, delivers on all your requirements with 4 spacious bedrooms and 3 well-appointed bathrooms, ensuring comfort and privacy for your family and guests. The large kitchen, the heart of this home, is ideal for your culinary adventures and family gatherings, offering both the space and the modern amenities you need.\n",
      "\n",
      "The traditional fireplace adds a touch of timeless elegance and a cozy ambiance to the living spaces, inviting you to create memorable moments with your loved ones. The expansive backyard not only provides a safe haven for outdoor play and relaxation but also offers potential for personal landscaping projects or a vegetable garden, aligning with your desire for a blend of modern and classic living styles.\n",
      "\n",
      "While not located within a gated community, the safety and community spirit of this historic neighborhood in Portland ensure a serene and secure environment for your family. The East Coast location combines the charm of a bygone era with the ease of access to modern conveniences and leisure options, satisfying your preference for a location that offers the best of both worlds.\n",
      "\n",
      "At a price point that allows for customization and personal touches, this Classic New England Home is not just a house; it's the canvas for your family's future, blending the classic charm you admire with the modern lifestyle you lead. This property is a remarkable find that promises to transform your vision of the perfect family home into reality, all within a community that celebrates both heritage and progress.\n"
     ]
    }
   ],
   "source": [
    "print(response.content)"
   ]
  },
  {
   "cell_type": "code",
   "execution_count": null,
   "id": "46176852-e289-49df-8955-30768b786656",
   "metadata": {},
   "outputs": [],
   "source": []
  }
 ],
 "metadata": {
  "kernelspec": {
   "display_name": "ai-python",
   "language": "python",
   "name": "ai-python"
  },
  "language_info": {
   "codemirror_mode": {
    "name": "ipython",
    "version": 3
   },
   "file_extension": ".py",
   "mimetype": "text/x-python",
   "name": "python",
   "nbconvert_exporter": "python",
   "pygments_lexer": "ipython3",
   "version": "3.9.17"
  }
 },
 "nbformat": 4,
 "nbformat_minor": 5
}
